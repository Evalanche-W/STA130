{
 "cells": [
  {
   "cell_type": "code",
   "execution_count": null,
   "id": "e0d6ad45",
   "metadata": {},
   "outputs": [],
   "source": [
    "#STA130 HW5"
   ]
  },
  {
   "cell_type": "code",
   "execution_count": null,
   "id": "d634db53",
   "metadata": {},
   "outputs": [],
   "source": [
    "#All manually writen parts are put into individual boxes to distinguish from the AI writen ones"
   ]
  },
  {
   "cell_type": "code",
   "execution_count": 2,
   "id": "505d05fe",
   "metadata": {},
   "outputs": [],
   "source": [
    "#Pre Lec 1\n",
    "#A null hypothesis can be examined only when it is a statement containing quantitative figures regarding a parameter.\n",
    "#eg: \"Something is 'good'\" is not examinable while \"something is satisfactory for 75% of people\" might be examinable.\n",
    "#I use \"might\" here because \"satisfactory\" is not well-defined here. If you have survey data with \"are you satisfied...\" question, \n",
    "#then the hypothesis is examinable. It is highly related to the sample you have.\n",
    "\n",
    "\n",
    "#The null hypothesis usually means the opposite of the thing you want to \"prove\" (because we \"prove\" things by rejecting H0)\n",
    "#(\"prove\" is not an accurate word here because statistical evidence can't prove things; but I'll use it here for convinience anyway)\n",
    "#The alternative hypothesis H1 is the opposite (negation) of H0,and it's often the thing you wanna \"prove.\""
   ]
  },
  {
   "cell_type": "code",
   "execution_count": null,
   "id": "768d6f0d",
   "metadata": {},
   "outputs": [],
   "source": [
    "#Pre Lec 2\n",
    "#GPT's answer:\n",
    "#The statement is emphasizing the difference between the \"sample\" (the data we collect) and the \"population\" \n",
    "#(the entire group we are interested in). Here's a breakdown for a non-statistical audience:\n",
    "#𝑥𝑖 represents individual data points, like each person's score in a health test.\n",
    "#x-bar is the average of these data points from the sample (a smaller group of people we studied).\n",
    "#μ is the true average for the whole population (everyone we care about, not just the ones we studied).\n",
    "#μ0 is a hypothesized value for the population's average (what we believe it might be, for example, \n",
    "#\"before testing\" or according to some assumption).\n",
    "#The sentence is saying that when we run tests, we care about the entire population's true average ( μ ),\n",
    "#even though we only have data from a sample. Our goal is to use the sample results to make conclusions about the population.\n",
    "#The outcomes of tests are estimates or inferences for the population, not just descriptions of the sample itself. \n",
    "#So, when we test something, we aim to learn about everyone (population), not just the few people in our study.\n",
    "\n",
    "#A few things to add:\n",
    "#Since our tests are aimming at the population parameter, the hypothesized value in the test is also something about the parameter\n",
    "#There's nothing we need to infer about our sample, because we've already have our sample."
   ]
  },
  {
   "cell_type": "code",
   "execution_count": null,
   "id": "18db843e",
   "metadata": {},
   "outputs": [],
   "source": [
    "#Pre Lec 3\n",
    "#We basically assume H0 is true, and we calculate the probability. Assuming H0 is true is just something we did for the sake of our \n",
    "#calculation, it's nothing to do with the real parameter. Thus sometimes we can calculate a hypothesized value even without our sample."
   ]
  },
  {
   "cell_type": "code",
   "execution_count": null,
   "id": "4af8bab5",
   "metadata": {},
   "outputs": [],
   "source": [
    "#Pre Lec 4\n",
    "#When we are doing inference, whatever the methof we take, we are trying to estimate and eliminate sampling difference.\n",
    "#In the p-value test, the sampling difference is presented a the form of \"whatever sample you take, p-value is always >0 under H0\"\n",
    "#Yet, given that H0 is true (which is the hypothesis),a samll p-value means a small chance that we happen to pick this sample under H0\n",
    "#Thus, the samller the p-value is, the less likely that we made a type-1 error."
   ]
  },
  {
   "cell_type": "code",
   "execution_count": 3,
   "id": "0ef4e30f",
   "metadata": {},
   "outputs": [
    {
     "data": {
      "text/plain": [
       "0.0003"
      ]
     },
     "execution_count": 3,
     "metadata": {},
     "output_type": "execute_result"
    }
   ],
   "source": [
    "#Pre Lec 5\n",
    "import numpy as np\n",
    "\n",
    "# Parameters\n",
    "total_couples = 124\n",
    "tilt_right_observed = 80\n",
    "prob_tilt_right = 0.5\n",
    "num_simulations = 10000\n",
    "\n",
    "# Simulating coin flips (tilt right or left) 10,000 times\n",
    "simulations = np.random.binomial(n=total_couples, p=prob_tilt_right, size=num_simulations)\n",
    "\n",
    "# Calculate the proportion of simulations where 80 or more couples tilt to the right\n",
    "p_value = np.mean(simulations >= tilt_right_observed)\n",
    "p_value\n"
   ]
  },
  {
   "cell_type": "code",
   "execution_count": null,
   "id": "34f759f9",
   "metadata": {},
   "outputs": [],
   "source": [
    "#As 0.01>p>0.001, there is strong evidence that H0 is false."
   ]
  },
  {
   "cell_type": "code",
   "execution_count": null,
   "id": "73444ad6",
   "metadata": {},
   "outputs": [],
   "source": [
    "#Post Lec 1  (problem 6)\n",
    "#As is mentioned in Pre Lec 4, as long as p≠0（p can't be 0 anyway）,we have a chance to make type-1 error.\n",
    "#Thus, a small p can't prove for sure that H0 is false.(and whatever p you find, it's possible to find another 0<p1<p you find, isn't it)"
   ]
  },
  {
   "cell_type": "code",
   "execution_count": 4,
   "id": "52b41dcd",
   "metadata": {},
   "outputs": [
    {
     "name": "stdout",
     "output_type": "stream",
     "text": [
      "T-statistic: 2.5900615612703937\n",
      "Two-sided p-value: 0.02921052381549256\n",
      "Reject the null hypothesis. The vaccine has a significant effect on health.\n"
     ]
    }
   ],
   "source": [
    "#Post Lec 2 (problem 7)\n",
    "#TWO-SIDED TEST\n",
    "\n",
    "\n",
    "#Hypotheses:Null Hypothesis (H₀): The vaccine has no effect on health, meaning the mean difference \n",
    "#between final and initial health scores is 0.\n",
    "#Alternative Hypothesis (H₁): The vaccine has an effect on health, meaning the mean difference \n",
    "#between final and initial health scores is not 0.\n",
    "import numpy as np\n",
    "from scipy import stats\n",
    "import pandas as pd\n",
    "\n",
    "# Create the dataset\n",
    "data = {\n",
    "    'PatientID': [1, 2, 3, 4, 5, 6, 7, 8, 9, 10],\n",
    "    'Age': [45, 34, 29, 52, 37, 41, 33, 48, 26, 39],\n",
    "    'Gender': ['M', 'F', 'M', 'F', 'M', 'F', 'M', 'F', 'M', 'F'],\n",
    "    'InitialHealthScore': [84, 78, 83, 81, 81, 80, 79, 85, 76, 83],\n",
    "    'FinalHealthScore': [86, 86, 80, 86, 84, 86, 86, 82, 83, 84]\n",
    "}\n",
    "\n",
    "# Convert the data into a pandas DataFrame\n",
    "df = pd.DataFrame(data)\n",
    "\n",
    "# Calculate the difference between FinalHealthScore and InitialHealthScore\n",
    "df['HealthScoreDifference'] = df['FinalHealthScore'] - df['InitialHealthScore']\n",
    "\n",
    "# Perform a two-sided t-test to check if the mean difference is significantly different from 0\n",
    "t_stat, p_value = stats.ttest_1samp(df['HealthScoreDifference'], 0)\n",
    "\n",
    "# Output the t-statistic and p-value\n",
    "print(f\"T-statistic: {t_stat}\")\n",
    "print(f\"Two-sided p-value: {p_value}\")\n",
    "\n",
    "# Set a significance level (alpha)\n",
    "alpha = 0.05\n",
    "\n",
    "# Determine if we reject the null hypothesis\n",
    "if p_value < alpha:\n",
    "    print(\"Reject the null hypothesis. The vaccine has a significant effect on health.\")\n",
    "else:\n",
    "    print(\"Fail to reject the null hypothesis. There is no significant effect of the vaccine on health.\")\n",
    "    \n",
    "    \n",
    "#Steps:\n",
    "#1,The data is converted into a pandas DataFrame.\n",
    "#2,The health score difference (FinalHealthScore - InitialHealthScore) is calculated for each patient.\n",
    "#3,A two-sided t-test is performed on the differences to see if the mean difference is significantly different from 0.\n",
    "#4,Based on the p-value, the decision is made whether to reject the null hypothesis.\n"
   ]
  },
  {
   "cell_type": "code",
   "execution_count": null,
   "id": "0bfd3154",
   "metadata": {},
   "outputs": [],
   "source": [
    "#ONE-SIDED TEST\n",
    "\n",
    "\n",
    "#Hypotheses:\n",
    "#Null Hypothesis (H₀): The vaccine has no effect on health (the mean change in health scores is 0 or negative).\n",
    "#Alternative Hypothesis (H₁): The vaccine improves health (the mean change in health scores is positive).\n",
    "    \n",
    "import numpy as np\n",
    "from scipy import stats\n",
    "import pandas as pd\n",
    "\n",
    "# Data: InitialHealthScore and FinalHealthScore for each patient\n",
    "data = {\n",
    "    'PatientID': [1, 2, 3, 4, 5, 6, 7, 8, 9, 10],\n",
    "    'InitialHealthScore': [84, 78, 83, 81, 81, 80, 79, 85, 76, 83],\n",
    "    'FinalHealthScore': [86, 86, 80, 86, 84, 86, 86, 82, 83, 84]\n",
    "}\n",
    "\n",
    "# Create a DataFrame\n",
    "df = pd.DataFrame(data)\n",
    "\n",
    "# Calculate the difference between Final and Initial Health Scores\n",
    "df['HealthScoreChange'] = df['FinalHealthScore'] - df['InitialHealthScore']\n",
    "\n",
    "# Perform a one-tailed paired t-test\n",
    "t_stat, p_value_two_tailed = stats.ttest_rel(df['FinalHealthScore'], df['InitialHealthScore'])\n",
    "\n",
    "# For a one-tailed test, we divide the two-tailed p-value by 2\n",
    "p_value_one_tailed = p_value_two_tailed / 2 if t_stat > 0 else 1 - (p_value_two_tailed / 2)\n",
    "\n",
    "# Show the result\n",
    "t_stat, p_value_one_tailed, df['HealthScoreChange'].mean()\n",
    "\n",
    "\n",
    "#p=0.0146, H0 rejected"
   ]
  },
  {
   "cell_type": "code",
   "execution_count": 9,
   "id": "e27d236f",
   "metadata": {},
   "outputs": [
    {
     "data": {
      "text/plain": [
       "BinomTestResult(k=49, n=80, alternative='greater', statistic=0.6125, pvalue=0.028332213172560572)"
      ]
     },
     "execution_count": 9,
     "metadata": {},
     "output_type": "execute_result"
    }
   ],
   "source": [
    "#Post Lec 3 (Problem 8)\n",
    "\n",
    "#Hypotheses:\n",
    "#Null Hypothesis (H₀): Students are guessing, meaning their probability of correctly identifying whether tea or milk \n",
    "#was poured first is 50%. Formally:\n",
    "#H₀: p = 0.5\n",
    "#Alternative Hypothesis (H₁): Students have some ability to correctly identify the pouring order, meaning the probability \n",
    "#is greater than 50%. Formally:\n",
    "#H₁: p > 0.5\n",
    "\n",
    "#Note:that means this is an one-sided test\n",
    "\n",
    "#Let alpha=0.05\n",
    "\n",
    "\n",
    "# Importing necessary libraries\n",
    "import numpy as np\n",
    "from scipy.stats import binomtest\n",
    "\n",
    "# Set a random seed for reproducibility\n",
    "np.random.seed(42)\n",
    "\n",
    "# Data: number of correct identifications\n",
    "correct_identifications = 49\n",
    "total_students = 80\n",
    "p_null = 0.5  # Under the null hypothesis (random guessing)\n",
    "\n",
    "# Perform a one-tailed binomial test\n",
    "p_value = binomtest(correct_identifications, total_students, p=p_null, alternative='greater')\n",
    "\n",
    "p_value\n"
   ]
  },
  {
   "cell_type": "code",
   "execution_count": null,
   "id": "ab5468a8",
   "metadata": {},
   "outputs": [],
   "source": [
    "#since p=0.028, H0 is rejected"
   ]
  }
 ],
 "metadata": {
  "kernelspec": {
   "display_name": "Python 3 (ipykernel)",
   "language": "python",
   "name": "python3"
  },
  "language_info": {
   "codemirror_mode": {
    "name": "ipython",
    "version": 3
   },
   "file_extension": ".py",
   "mimetype": "text/x-python",
   "name": "python",
   "nbconvert_exporter": "python",
   "pygments_lexer": "ipython3",
   "version": "3.11.6"
  }
 },
 "nbformat": 4,
 "nbformat_minor": 5
}
